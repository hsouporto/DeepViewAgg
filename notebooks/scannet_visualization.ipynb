{
 "cells": [
  {
   "cell_type": "markdown",
   "metadata": {},
   "source": [
    "# ScanNet\n",
    "\n",
    "This notebook lets you instantiate the **[ScanNet](http://www.scan-net.org/)** dataset from scratch and visualize **3D+2D room samples**.\n",
    "\n",
    "Note that you will need **at least 1.2T** available for the SanNet raw dataset and **at least 64G** for the processed files at **5cm voxel resolution** and **320x240 image resolution**. \n",
    "\n",
    "The ScanNet dataset is composed of **rooms** of video acquisitions of indoor scenes. Thes video streams were used to produce a point cloud and images.\n",
    "\n",
    "Each room is small enough to be loaded at once into a **64G RAM** memory. The `ScannetDatasetMM` class from `torch_points3d.datasets.segmentation.multimodal.scannet` deals with loading the room and part of the images of the associated video stream."
   ]
  },
  {
   "cell_type": "code",
   "execution_count": null,
   "metadata": {},
   "outputs": [],
   "source": [
    "# Select you GPU\n",
    "I_GPU = 0"
   ]
  },
  {
   "cell_type": "code",
   "execution_count": null,
   "metadata": {},
   "outputs": [],
   "source": [
    "# Uncomment to use autoreload\n",
    "# %load_ext autoreload\n",
    "# %autoreload 2\n",
    "\n",
    "import os\n",
    "import os.path as osp\n",
    "import sys\n",
    "import torch\n",
    "import numpy as np\n",
    "from time import time\n",
    "from omegaconf import OmegaConf\n",
    "start = time()\n",
    "import warnings\n",
    "warnings.filterwarnings('ignore')\n",
    "\n",
    "torch.cuda.set_device(I_GPU)\n",
    "DIR = os.path.dirname(os.getcwd())\n",
    "ROOT = os.path.join(DIR, \"..\")\n",
    "sys.path.insert(0, ROOT)\n",
    "sys.path.insert(0, DIR)\n",
    "\n",
    "from torch_points3d.utils.config import hydra_read\n",
    "from torch_geometric.data import Data\n",
    "from torch_points3d.core.multimodal.data import MMData, MMBatch\n",
    "from torch_points3d.visualization.multimodal_data import visualize_mm_data\n",
    "from torch_points3d.core.multimodal.image import SameSettingImageData, ImageData\n",
    "from torch_points3d.datasets.segmentation.multimodal.scannet import ScannetDatasetMM\n",
    "from torch_points3d.datasets.segmentation.scannet import CLASS_COLORS, CLASS_NAMES"
   ]
  },
  {
   "cell_type": "markdown",
   "metadata": {},
   "source": [
    "If `visualize_mm_data` does not throw any error but the visualization does not appear, you may need to change your plotly renderer below."
   ]
  },
  {
   "cell_type": "code",
   "execution_count": null,
   "metadata": {},
   "outputs": [],
   "source": [
    "import plotly.io as pio\n",
    "\n",
    "pio.renderers.default = 'jupyterlab'        # for local notebook\n",
    "# pio.renderers.default = 'iframe_connected'  # for remote notebook. Other working (but seemingly slower) options are: 'sphinx_gallery' and 'iframe'"
   ]
  },
  {
   "cell_type": "markdown",
   "metadata": {},
   "source": [
    "## Dataset creation\n",
    "\n",
    "The following will instantiate the dataset. If the data is not found at `DATA_ROOT`, the folder structure will be created there and the raw dataset will be downloaded there. \n",
    "\n",
    "**Memory-friendly tip** : if you have already downloaded the dataset once and simply want to instantiate a new dataset with different preprocessing (*e.g* change 3D or 2D resolution, mapping parameterization, etc), I recommend you manually replicate the folder hierarchy of your already-existing dataset and create a symlink to its `raw/` directory to avoid downloading and storing (very) large files twice.\n",
    "\n",
    "You will find the config file ruling the dataset creation at `conf/data/segmentation/multimodal/scannet-sparse.yaml`. You may edit this file or create new configs inheriting from this one using Hydra and create the associated dataset by modifying `dataset_config` accordingly in the following cell."
   ]
  },
  {
   "cell_type": "code",
   "execution_count": null,
   "metadata": {},
   "outputs": [],
   "source": [
    "# Set your dataset root directory, where the data was/will be downloaded\n",
    "DATA_ROOT = '/path/to/your/dataset/root/directory'\n",
    "\n",
    "dataset_config = 'segmentation/multimodal/scannet-sparse'   \n",
    "models_config = 'segmentation/multimodal/sparseconv3d'    # model family\n",
    "model_name = 'Res16UNet34-L4-early'                       # specific model\n",
    "\n",
    "overrides = [\n",
    "    'task=segmentation',\n",
    "    f'data={dataset_config}',\n",
    "    f'models={models_config}',\n",
    "    f'model_name={model_name}',\n",
    "    f'data.dataroot={DATA_ROOT}',\n",
    "]\n",
    "\n",
    "cfg = hydra_read(overrides)\n",
    "# print(OmegaConf.to_yaml(cfg))"
   ]
  },
  {
   "cell_type": "markdown",
   "metadata": {},
   "source": [
    "The dataset will now be created based on the parsed configuration. I recommend having **at least 1.2T** available for the SanNet raw dataset and **at least 64G** for the processed files at **5cm voxel resolution** and **320x240 image resolution**. \n",
    "\n",
    "As long as you do not change core dataset parameters, preprocessing should only be performed once for your dataset. It may take some time, **mostly depending on the 3D and 2D resolutions** you choose to work with (the larger the slower)."
   ]
  },
  {
   "cell_type": "code",
   "execution_count": null,
   "metadata": {},
   "outputs": [],
   "source": [
    "# Dataset instantiation\n",
    "start = time()\n",
    "dataset = ScannetDatasetMM(cfg.data)\n",
    "# print(dataset)\n",
    "print(f\"Time = {time() - start:0.1f} sec.\")"
   ]
  },
  {
   "cell_type": "markdown",
   "metadata": {},
   "source": [
    "To visualize the multimodal samples produced by the dataset, we need to remove some of the dataset transforms that affect points, images and mappings. The `sample_real_data` function will be used to get samples without breaking mappings consistency for visualization.\n",
    "\n",
    "At training and evaluation time, these transforms are used for data augmentation, dynamic size batching (see our [paper](https://arxiv.org/submit/4264152)), etc..."
   ]
  },
  {
   "cell_type": "code",
   "execution_count": null,
   "metadata": {},
   "outputs": [],
   "source": [
    "from torch_geometric.transforms import *\n",
    "from torch_points3d.core.data_transform import *\n",
    "from torch_points3d.core.data_transform.multimodal.image import *\n",
    "from torch_points3d.datasets.base_dataset import BaseDataset\n",
    "from torch_points3d.datasets.base_dataset_multimodal import BaseDatasetMM\n",
    "\n",
    "# Transforms on 3D points that we need to exclude for visualization purposes\n",
    "augmentations_3d = [\n",
    "    ElasticDistortion, Random3AxisRotation, RandomNoise, RandomRotate, \n",
    "    RandomScaleAnisotropic, RandomSymmetry, ShiftVoxels]\n",
    "exclude_3d_viz = augmentations_3d + [AddFeatsByKeys, Center, GridSampling3D]\n",
    "\n",
    "# Transforms on 2D images and mappings that we need to exclude for visualization\n",
    "# purposes\n",
    "augmentations_2d = [JitterMappingFeatures, ColorJitter, RandomHorizontalFlip]\n",
    "exclude_2d_viz = augmentations_2d + [ToFloatImage, Normalize]\n",
    "\n",
    "\n",
    "def sample_real_data(tg_dataset, idx=0, exclude_3d=None, exclude_2d=None):\n",
    "    \"\"\"\n",
    "    Temporarily remove the 3D and 2D transforms affecting the point \n",
    "    positions and images from the dataset to better visualize points \n",
    "    and images relative positions.\n",
    "    \"\"\"    \n",
    "    # Remove some 3D transforms\n",
    "    transform_3d = tg_dataset.transform\n",
    "    if exclude_3d:\n",
    "        tg_dataset.transform = BaseDataset.remove_transform(transform_3d, exclude_3d)\n",
    "\n",
    "    # Remove some 2D transforms, if any\n",
    "    is_multimodal = hasattr(tg_dataset, 'transform_image')\n",
    "    if is_multimodal and exclude_2d:\n",
    "        transform_2d = tg_dataset.transform_image\n",
    "        tg_dataset.transform_image = BaseDatasetMM.remove_multimodal_transform(transform_2d, exclude_2d)\n",
    "    \n",
    "    # Get a sample from the dataset, with transforms excluded\n",
    "    out = tg_dataset[idx]\n",
    "    \n",
    "    # Restore transforms\n",
    "    tg_dataset.transform = transform_3d\n",
    "    if is_multimodal and exclude_2d:\n",
    "        tg_dataset.transform_image = transform_2d\n",
    "        \n",
    "    return out"
   ]
  },
  {
   "cell_type": "markdown",
   "metadata": {},
   "source": [
    "## Visualize a single multimodal sample\n",
    "\n",
    "We can now pick samples from the train, val and test datasets.\n",
    "\n",
    "Please refer to `torch_points3d/visualization/multimodal_data` for more details on visualization options."
   ]
  },
  {
   "cell_type": "code",
   "execution_count": null,
   "metadata": {},
   "outputs": [],
   "source": [
    "i_room = 20\n",
    "\n",
    "# Pick a room in the Train set\n",
    "mm_data = sample_real_data(dataset.train_dataset, idx=i_room, exclude_3d=exclude_3d_viz, exclude_2d=exclude_2d_viz)\n",
    "\n",
    "# Pick a room in the Val set\n",
    "# mm_data = sample_real_data(dataset.val_dataset, idx=i_room, exclude_3d=exclude_3d_viz, exclude_2d=exclude_2d_viz)\n",
    "\n",
    "# Pick a room in the Test set\n",
    "# mm_data = sample_real_data(dataset.test_dataset[0], idx=i_room, exclude_3d=exclude_3d_viz, exclude_2d=exclude_2d_viz)\n",
    "\n",
    "visualize_mm_data(mm_data, class_names=CLASS_NAMES, class_colors=CLASS_COLORS, front='y', figsize=1000, pointsize=3, voxel=0.05, show_2d=True, alpha=0.3)"
   ]
  },
  {
   "cell_type": "markdown",
   "metadata": {},
   "source": [
    "## Run inference from pretrained weights and visualize predictions\n",
    "It is possible to visualize the pointwise predictions and errors from a model. \n",
    "\n",
    "To do so, we will use the pretrained weights made available with this project. See `README.md` to get the download links and manually place the `.pt` files locally. You will need to provide `checkpoint_dir` where you saved those files in the next cell."
   ]
  },
  {
   "cell_type": "code",
   "execution_count": null,
   "metadata": {},
   "outputs": [],
   "source": [
    "from torch_points3d.models.model_factory import instantiate_model\n",
    "\n",
    "# Set your parameters\n",
    "checkpoint_dir = '/directory/containing/your/checkpoint/file'\n",
    "\n",
    "# Create the model\n",
    "print(f\"Creating model: {cfg.model_name}\")\n",
    "model = instantiate_model(cfg, dataset)\n",
    "# print(model)\n",
    "\n",
    "# Load the checkpoint and recover the 'latest' model weights\n",
    "checkpoint = torch.load(f'{checkpoint_dir}/{model_name}.pt')\n",
    "model.load_state_dict_with_same_shape(checkpoint['models']['latest'], strict=False)\n",
    "\n",
    "# Prepare the model for inference\n",
    "model = model.eval().cuda()\n",
    "print('Model loaded')"
   ]
  },
  {
   "cell_type": "markdown",
   "metadata": {},
   "source": [
    "Now we have loaded the model, we need to run a forward pass on a sample. Howver, if we want to be able to visualize the predictions, we need to pay special attention to which type of 3D and 2D transforms we apply on the data if we do not want to break the mappings. To do so, we will manually apply some sensitive transforms to be able to both infer on the data and visualize it."
   ]
  },
  {
   "cell_type": "code",
   "execution_count": null,
   "metadata": {},
   "outputs": [],
   "source": [
    "i_room = 0\n",
    "\n",
    "# Pick a room in the Train set\n",
    "mm_data = sample_real_data(dataset.train_dataset, idx=i_room, exclude_3d=exclude_3d_viz, exclude_2d=exclude_2d_viz)\n",
    "\n",
    "# Pick a room in the Val set\n",
    "# mm_data = sample_real_data(dataset.val_dataset, idx=i_room, exclude_3d=exclude_3d_viz, exclude_2d=exclude_2d_viz)\n",
    "\n",
    "# Pick a room in the Test set\n",
    "# mm_data = sample_real_data(dataset.test_dataset[0], idx=i_room, exclude_3d=exclude_3d_viz, exclude_2d=exclude_2d_viz)\n",
    "\n",
    "# Extract point cloud and images from MMData object\n",
    "data = mm_data.data.clone()\n",
    "images = mm_data.modalities['image'].clone()\n",
    "\n",
    "# For voxel-based 3D backbones such as SparseConv3d and MinkowskiNet, points need to be \n",
    "# preprocessed with Center and GridSampling3D. Unfortunately, Center breaks relative \n",
    "# positions between points and images. Besides, the combination of Center and GridSampling3D\n",
    "# may lead to some points being merged into the same voxels, so we must apply it to both the\n",
    "# inference and visualization data to make sure we have the same voxels. The workaround here \n",
    "# is to manually run these while keeping track of the centering offset\n",
    "center = data.pos.mean(dim=-2, keepdim=True)\n",
    "data = AddFeatsByKeys(list_add_to_x=[True], feat_names=['pos_z'], delete_feats=[True])(data)          # add z-height to the features\n",
    "data = Center()(data)                                                                                 # mean-center the data\n",
    "data = GridSampling3D(cfg.data.resolution_3d, quantize_coords=True, mode='last')(data)                # quantization for volumetric models\n",
    "\n",
    "# This last voxelization step with GridSampling3D might have removed some points, so we need\n",
    "# to update the mappings usign SelectMappingFromPointId. To control the size of the batch, we\n",
    "# use PickImagesFromMemoryCredit. Besides, 2D models expect normalized float images, which is\n",
    "# why we call ToFloatImage and Normalize\n",
    "data, images = SelectMappingFromPointId()(data, images)                                               # update mappings after GridSampling3D\n",
    "data, images = PickImagesFromMemoryCredit(\n",
    "    img_size=cfg.data.resolution_2d, \n",
    "    k_coverage=cfg.data.multimodal.settings.k_coverage, \n",
    "    n_img=cfg.data.multimodal.settings.test_pixel_credit)(data, images)                                      # select images to respect memory constraints\n",
    "data, images_infer = ToFloatImage()(data, images.clone())                                             # convert uint8 images to float\n",
    "data, images_infer = Normalize()(data, images_infer)                                                  # RGB normalization\n",
    "\n",
    "# Create a MMData for inference\n",
    "mm_data_infer = MMData(data, image=images_infer)\n",
    "\n",
    "# Create a MMBatch and run inference\n",
    "batch = MMBatch.from_mm_data_list([mm_data_infer])\n",
    "model.set_input(batch, model.device)\n",
    "model(batch)\n",
    "\n",
    "# Create a MMData for visualization\n",
    "data.pos += center\n",
    "mm_data = MMData(data, image=images)\n",
    "\n",
    "# Recover the predicted labels for visualization\n",
    "mm_data.data.pred = model.output.detach().cpu().argmax(1)"
   ]
  },
  {
   "cell_type": "code",
   "execution_count": null,
   "metadata": {},
   "outputs": [],
   "source": [
    "IGNORE_LABELalize_mm_data(mm_data, figsize=1000, pointsize=3, voxel=0.05, show_2d=True, front='y', class_names=CLASS_NAMES, class_colors=CLASS_COLORS, alpha=0.3)"
   ]
  }
 ],
 "metadata": {
  "kernelspec": {
   "display_name": "tp3d",
   "language": "python",
   "name": "tp3d"
  },
  "language_info": {
   "codemirror_mode": {
    "name": "ipython",
    "version": 3
   },
   "file_extension": ".py",
   "mimetype": "text/x-python",
   "name": "python",
   "nbconvert_exporter": "python",
   "pygments_lexer": "ipython3",
   "version": "3.8.8"
  }
 },
 "nbformat": 4,
 "nbformat_minor": 4
}
